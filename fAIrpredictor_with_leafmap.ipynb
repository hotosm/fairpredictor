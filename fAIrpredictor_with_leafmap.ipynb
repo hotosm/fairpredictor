{
  "cells": [
    {
      "cell_type": "code",
      "execution_count": null,
      "metadata": {
        "id": "GnN-gbWRV5kb"
      },
      "outputs": [],
      "source": [
        "!pip install fairpredictor leafmap efficientnet"
      ]
    },
    {
      "cell_type": "code",
      "execution_count": 5,
      "metadata": {
        "id": "iflIdgkqWEkS"
      },
      "outputs": [
        {
          "name": "stderr",
          "output_type": "stream",
          "text": [
            "2024-03-22 14:33:17.695903: I tensorflow/tsl/cuda/cudart_stub.cc:28] Could not find cuda drivers on your machine, GPU will not be used.\n",
            "2024-03-22 14:33:17.750775: I tensorflow/tsl/cuda/cudart_stub.cc:28] Could not find cuda drivers on your machine, GPU will not be used.\n",
            "2024-03-22 14:33:17.751933: I tensorflow/core/platform/cpu_feature_guard.cc:182] This TensorFlow binary is optimized to use available CPU instructions in performance-critical operations.\n",
            "To enable the following instructions: AVX2 FMA, in other operations, rebuild TensorFlow with the appropriate compiler flags.\n",
            "2024-03-22 14:33:18.791673: W tensorflow/compiler/tf2tensorrt/utils/py_utils.cc:38] TF-TRT Warning: Could not find TensorRT\n"
          ]
        },
        {
          "name": "stdout",
          "output_type": "stream",
          "text": [
            "TFlite_runtime is not installed , Predictions with .tflite extension won't work\n",
            "Raster2polygon is not installed. This option won't be available in postprocessing\n"
          ]
        }
      ],
      "source": [
        "from predictor import predict\n",
        "import efficientnet.keras as efn"
      ]
    },
    {
      "cell_type": "code",
      "execution_count": 1,
      "metadata": {
        "id": "R4HUHPD3XEUZ"
      },
      "outputs": [],
      "source": [
        "import requests\n",
        "import shutil\n",
        "import leafmap\n",
        "import json\n",
        "import geopandas as gpd\n",
        "import matplotlib.pyplot as plt\n",
        "\n",
        "\n",
        "BASE_FAIR_API_URL='https://fair-dev.hotosm.org/api/v1'\n",
        "\n",
        "def get_model(model_id):\n",
        "  model_meta=requests.get(f'{BASE_FAIR_API_URL}/model/{model_id}/')\n",
        "  model_meta.raise_for_status()\n",
        "  model_meta=model_meta.json()\n",
        "  print(model_meta)\n",
        "  model_path = 'checkpoint.h5'\n",
        "  url=f'{BASE_FAIR_API_URL}/workspace/download/dataset_{model_meta[\"dataset\"]}/output/training_{model_meta[\"published_training\"]}/checkpoint.h5'\n",
        "\n",
        "  response = requests.get(url, stream=True)\n",
        "  response.raise_for_status()\n",
        "  with open(model_path, 'wb') as out_file:\n",
        "    shutil.copyfileobj(response.raw, out_file)\n",
        "  return model_path\n",
        "\n",
        "\n",
        "def display_predictions_gdf(predictions):\n",
        "  predictions_gdf = gpd.GeoDataFrame.from_features(predictions)\n",
        "  predictions_gdf.plot()\n",
        "  plt.show()\n"
      ]
    },
    {
      "cell_type": "markdown",
      "metadata": {
        "id": "ZvkWxm0eYFza"
      },
      "source": [
        "## Set parameters\n",
        "\n",
        "    model_id : Model ID Published on fAIr\n",
        "    zoom_level : Zoom level of the tiles to be used for prediction\n",
        "    tms_url : Your Image URL on which you want to detect feature\n",
        "\n"
      ]
    },
    {
      "cell_type": "code",
      "execution_count": 2,
      "metadata": {
        "id": "n27FEzbjYTd4"
      },
      "outputs": [],
      "source": [
        "model_id = 121\n",
        "zoom_level = 20\n",
        "tms_url = 'https://tiles.openaerialmap.org/65e4bb85e6f8d4000128235a/0/65e4bb85e6f8d4000128235b/{z}/{x}/{y}'"
      ]
    },
    {
      "cell_type": "markdown",
      "metadata": {
        "id": "c_tSAdCdZvra"
      },
      "source": [
        "##  Download model from the server"
      ]
    },
    {
      "cell_type": "code",
      "execution_count": 5,
      "metadata": {
        "colab": {
          "base_uri": "https://localhost:8080/"
        },
        "id": "zwCeX3iFXPRv",
        "outputId": "553719e0-653b-43d3-a557-470d18353e4a"
      },
      "outputs": [
        {
          "name": "stdout",
          "output_type": "stream",
          "text": [
            "{'id': 121, 'name': 'Monrovia e2e', 'created_at': '2024-03-05T10:16:58.048863Z', 'last_modified': '2024-03-16T14:52:50.287500Z', 'published_training': 425, 'status': 0, 'dataset': 189, 'created_by': 7004124}\n"
          ]
        }
      ],
      "source": [
        "model_path=get_model(model_id)"
      ]
    },
    {
      "cell_type": "markdown",
      "metadata": {
        "id": "QL8-56QIaa6l"
      },
      "source": [
        "## Define bounding box for your prediction\n",
        "\n",
        "  \n",
        "  Create your area of interest from leafmap GUI"
      ]
    },
    {
      "cell_type": "code",
      "execution_count": 8,
      "metadata": {
        "colab": {
          "base_uri": "https://localhost:8080/",
          "height": 621,
          "referenced_widgets": [
            "40249a8a5e3e4b6c9c385ca47e6469c5",
            "1fbf3846475d4cfdbee09e84eeaa2873",
            "9a5f2c29a4164d3c9f557c33fcf74563",
            "ec15e61d422c465bbecc195446598e83",
            "f385ba777bab45a29527b39ceebaf09e",
            "f4efd6beb26b47d9825d5edde9d68f56",
            "a904c866edfc4988a8a31a2266e13717",
            "b3fa0e7958184ae0be0555d2511c3b72",
            "03f44f9e801e40d98fbf072beb827ec7",
            "8aba262ccb0f4cf2a2d0a2c2f7e18901",
            "7c396dca1d99474282ec20511e5e2119",
            "cf56c1d62803468ebf38005b28db8d0c",
            "21bf5d2af9084220ade3dc0edeb9dcd2",
            "b01300b068a345b1823d4e6e38920d47",
            "04a22560580444779ce03cf3c583ac55",
            "bae39a79f4334b898165cbb98ba8c48e",
            "7ced66c651d2470a8ac793d052c19b51",
            "d6515459d20d44e8aede885952508e50"
          ]
        },
        "id": "J5vXsbNOaYOs",
        "outputId": "0bd6473b-cc8e-4f9a-9653-93723b5e2499"
      },
      "outputs": [
        {
          "data": {
            "application/vnd.jupyter.widget-view+json": {
              "model_id": "c5f109ef902b4b34b897c93f799fd4ab",
              "version_major": 2,
              "version_minor": 0
            },
            "text/plain": [
              "Map(center=[6.3156, -10.8074], controls=(ZoomControl(options=['position', 'zoom_in_text', 'zoom_in_title', 'zo…"
            ]
          },
          "execution_count": 8,
          "metadata": {},
          "output_type": "execute_result"
        }
      ],
      "source": [
        "m = leafmap.Map(center=(6.3156, -10.8074), zoom=14)\n",
        "m.add_tile_layer(url=tms_url,name=\"OAM Image\",attribution='OAM')\n",
        "m"
      ]
    },
    {
      "cell_type": "markdown",
      "metadata": {
        "id": "D7qE7HpWatZZ"
      },
      "source": [
        "### Get bounding box from map or define bbox by yourself"
      ]
    },
    {
      "cell_type": "code",
      "execution_count": 3,
      "metadata": {
        "id": "MW-tyPS3aqoz"
      },
      "outputs": [],
      "source": [
        "# bbox=m.user_roi_bounds()\n",
        "\n",
        "bbox=[-10.7933, 6.3737, -10.7921, 6.3749]"
      ]
    },
    {
      "cell_type": "markdown",
      "metadata": {
        "id": "Dx2VK0gze_Tz"
      },
      "source": [
        "## Predict"
      ]
    },
    {
      "cell_type": "code",
      "execution_count": 7,
      "metadata": {},
      "outputs": [],
      "source": [
        "model_path='checkpoint.h5'"
      ]
    },
    {
      "cell_type": "code",
      "execution_count": 10,
      "metadata": {
        "colab": {
          "base_uri": "https://localhost:8080/"
        },
        "id": "bj2Hp1QTa3ol",
        "outputId": "a7127409-fec3-4935-888e-6ff9a0d3ecc1"
      },
      "outputs": [
        {
          "name": "stdout",
          "output_type": "stream",
          "text": [
            "Download starting from [492850, 505684] to [492853, 505681] using source https://tiles.openaerialmap.org/65e4bb85e6f8d4000128235a/0/65e4bb85e6f8d4000128235b/{z}/{x}/{y} - 20\n",
            "Using : checkpoint.h5\n",
            "It took 2 sec to load model\n"
          ]
        },
        {
          "ename": "AttributeError",
          "evalue": "'str' object has no attribute 'glob'",
          "output_type": "error",
          "traceback": [
            "\u001b[0;31m---------------------------------------------------------------------------\u001b[0m",
            "\u001b[0;31mAttributeError\u001b[0m                            Traceback (most recent call last)",
            "Cell \u001b[0;32mIn[10], line 1\u001b[0m\n\u001b[0;32m----> 1\u001b[0m predictions\u001b[38;5;241m=\u001b[39m\u001b[43mpredict\u001b[49m\u001b[43m(\u001b[49m\u001b[43mbbox\u001b[49m\u001b[43m,\u001b[49m\u001b[43mmodel_path\u001b[49m\u001b[43m,\u001b[49m\u001b[43mzoom_level\u001b[49m\u001b[43m,\u001b[49m\u001b[43mtms_url\u001b[49m\u001b[43m,\u001b[49m\u001b[43mtile_overlap_distance\u001b[49m\u001b[38;5;241;43m=\u001b[39;49m\u001b[38;5;241;43m0.01\u001b[39;49m\u001b[43m,\u001b[49m\u001b[43mremove_metadata\u001b[49m\u001b[38;5;241;43m=\u001b[39;49m\u001b[38;5;28;43;01mFalse\u001b[39;49;00m\u001b[43m,\u001b[49m\u001b[43mmulti_masks\u001b[49m\u001b[38;5;241;43m=\u001b[39;49m\u001b[38;5;28;43;01mTrue\u001b[39;49;00m\u001b[43m)\u001b[49m\n\u001b[1;32m      2\u001b[0m \u001b[38;5;28mprint\u001b[39m(json\u001b[38;5;241m.\u001b[39mdumps(predictions))\n",
            "File \u001b[0;32m~/disk/hotosm/fairpredictor/predictor/app.py:70\u001b[0m, in \u001b[0;36mpredict\u001b[0;34m(bbox, model_path, zoom_level, tms_url, tile_size, base_path, confidence, area_threshold, tolerance, tile_overlap_distance, merge_adjancent_polygons, use_raster2polygon, remove_metadata, use_josm_q, max_angle_change, skew_tolerance, multi_masks)\u001b[0m\n\u001b[1;32m     67\u001b[0m prediction_path \u001b[38;5;241m=\u001b[39m os\u001b[38;5;241m.\u001b[39mpath\u001b[38;5;241m.\u001b[39mjoin(base_path, \u001b[38;5;124m\"\u001b[39m\u001b[38;5;124mprediction\u001b[39m\u001b[38;5;124m\"\u001b[39m)\n\u001b[1;32m     68\u001b[0m os\u001b[38;5;241m.\u001b[39mmakedirs(prediction_path, exist_ok\u001b[38;5;241m=\u001b[39m\u001b[38;5;28;01mTrue\u001b[39;00m)\n\u001b[0;32m---> 70\u001b[0m prediction_path \u001b[38;5;241m=\u001b[39m \u001b[43mrun_prediction\u001b[49m\u001b[43m(\u001b[49m\n\u001b[1;32m     71\u001b[0m \u001b[43m    \u001b[49m\u001b[43mmodel_path\u001b[49m\u001b[43m,\u001b[49m\n\u001b[1;32m     72\u001b[0m \u001b[43m    \u001b[49m\u001b[43mimage_download_path\u001b[49m\u001b[43m,\u001b[49m\n\u001b[1;32m     73\u001b[0m \u001b[43m    \u001b[49m\u001b[43mprediction_path\u001b[49m\u001b[38;5;241;43m=\u001b[39;49m\u001b[43mprediction_path\u001b[49m\u001b[43m,\u001b[49m\n\u001b[1;32m     74\u001b[0m \u001b[43m    \u001b[49m\u001b[43mconfidence\u001b[49m\u001b[38;5;241;43m=\u001b[39;49m\u001b[43mconfidence\u001b[49m\u001b[43m,\u001b[49m\n\u001b[1;32m     75\u001b[0m \u001b[43m    \u001b[49m\u001b[43mtile_overlap_distance\u001b[49m\u001b[38;5;241;43m=\u001b[39;49m\u001b[43mtile_overlap_distance\u001b[49m\u001b[43m,\u001b[49m\n\u001b[1;32m     76\u001b[0m \u001b[43m    \u001b[49m\u001b[43mmulti_masks\u001b[49m\u001b[38;5;241;43m=\u001b[39;49m\u001b[43mmulti_masks\u001b[49m\u001b[43m,\u001b[49m\n\u001b[1;32m     77\u001b[0m \u001b[43m\u001b[49m\u001b[43m)\u001b[49m\n\u001b[1;32m     78\u001b[0m start \u001b[38;5;241m=\u001b[39m time\u001b[38;5;241m.\u001b[39mtime()\n\u001b[1;32m     80\u001b[0m geojson_path \u001b[38;5;241m=\u001b[39m os\u001b[38;5;241m.\u001b[39mpath\u001b[38;5;241m.\u001b[39mjoin(base_path, \u001b[38;5;124m\"\u001b[39m\u001b[38;5;124mgeojson\u001b[39m\u001b[38;5;124m\"\u001b[39m)\n",
            "File \u001b[0;32m~/disk/hotosm/fairpredictor/predictor/prediction.py:182\u001b[0m, in \u001b[0;36mrun_prediction\u001b[0;34m(checkpoint_path, input_path, prediction_path, confidence, tile_overlap_distance, multi_masks)\u001b[0m\n\u001b[1;32m    180\u001b[0m \u001b[38;5;28;01melse\u001b[39;00m:\n\u001b[1;32m    181\u001b[0m     \u001b[38;5;28;01mif\u001b[39;00m multi_masks:\n\u001b[0;32m--> 182\u001b[0m         \u001b[43mgenerate_multimasks_predictions\u001b[49m\u001b[43m(\u001b[49m\n\u001b[1;32m    183\u001b[0m \u001b[43m            \u001b[49m\u001b[43mmodel\u001b[49m\u001b[43m,\u001b[49m\u001b[43m \u001b[49m\u001b[43mimages_dir\u001b[49m\u001b[38;5;241;43m=\u001b[39;49m\u001b[43minput_path\u001b[49m\u001b[43m,\u001b[49m\u001b[43m \u001b[49m\u001b[43moutput_dir\u001b[49m\u001b[38;5;241;43m=\u001b[39;49m\u001b[43mprediction_path\u001b[49m\n\u001b[1;32m    184\u001b[0m \u001b[43m        \u001b[49m\u001b[43m)\u001b[49m\n\u001b[1;32m    185\u001b[0m     \u001b[38;5;28;01melse\u001b[39;00m:\n\u001b[1;32m    186\u001b[0m         \u001b[38;5;28;01mfor\u001b[39;00m i \u001b[38;5;129;01min\u001b[39;00m \u001b[38;5;28mrange\u001b[39m((\u001b[38;5;28mlen\u001b[39m(image_paths) \u001b[38;5;241m+\u001b[39m BATCH_SIZE \u001b[38;5;241m-\u001b[39m \u001b[38;5;241m1\u001b[39m) \u001b[38;5;241m/\u001b[39m\u001b[38;5;241m/\u001b[39m BATCH_SIZE):\n",
            "File \u001b[0;32m~/disk/hotosm/fairpredictor/predictor/prediction.py:76\u001b[0m, in \u001b[0;36mgenerate_multimasks_predictions\u001b[0;34m(model, images_dir, output_dir)\u001b[0m\n\u001b[1;32m     68\u001b[0m \u001b[38;5;28;01mdef\u001b[39;00m \u001b[38;5;21mgenerate_multimasks_predictions\u001b[39m(model, images_dir, output_dir):\n\u001b[1;32m     69\u001b[0m \u001b[38;5;250m    \u001b[39m\u001b[38;5;124;03m\"\"\"\u001b[39;00m\n\u001b[1;32m     70\u001b[0m \u001b[38;5;124;03m    Generates multimasks predicitions as .png files in the output_dir\u001b[39;00m\n\u001b[1;32m     71\u001b[0m \u001b[38;5;124;03m    Args:\u001b[39;00m\n\u001b[0;32m   (...)\u001b[0m\n\u001b[1;32m     74\u001b[0m \u001b[38;5;124;03m        output_dir (_type_): ouptut dir where prediction masks should be stored\u001b[39;00m\n\u001b[1;32m     75\u001b[0m \u001b[38;5;124;03m    \"\"\"\u001b[39;00m\n\u001b[0;32m---> 76\u001b[0m     chip_files \u001b[38;5;241m=\u001b[39m \u001b[38;5;28msorted\u001b[39m(\u001b[43mimages_dir\u001b[49m\u001b[38;5;241;43m.\u001b[39;49m\u001b[43mglob\u001b[49m(\u001b[38;5;124m\"\u001b[39m\u001b[38;5;124m**/*.png\u001b[39m\u001b[38;5;124m\"\u001b[39m))\n\u001b[1;32m     78\u001b[0m     \u001b[38;5;28;01mfor\u001b[39;00m chip_file \u001b[38;5;129;01min\u001b[39;00m tqdm(chip_files):\n\u001b[1;32m     79\u001b[0m         bname \u001b[38;5;241m=\u001b[39m Path(chip_files)\u001b[38;5;241m.\u001b[39mstem\n",
            "\u001b[0;31mAttributeError\u001b[0m: 'str' object has no attribute 'glob'"
          ]
        }
      ],
      "source": [
        "predictions=predict(bbox,model_path,zoom_level,tms_url,tile_overlap_distance=0.01,remove_metadata=False,multi_masks=True)\n",
        "print(json.dumps(predictions))"
      ]
    },
    {
      "cell_type": "code",
      "execution_count": 10,
      "metadata": {
        "colab": {
          "base_uri": "https://localhost:8080/",
          "height": 448
        },
        "id": "qRqyl5qUfFIK",
        "outputId": "7825680e-9b3d-466c-8dc5-c597e67e9dc6"
      },
      "outputs": [
        {
          "data": {
            "image/png": "[encoded data removed]",
            "text/plain": [
              "<Figure size 640x480 with 1 Axes>"
            ]
          },
          "metadata": {},
          "output_type": "display_data"
        }
      ],
      "source": [
        "display_predictions_gdf(predictions)"
      ]
    },
    {
      "cell_type": "code",
      "execution_count": null,
      "metadata": {},
      "outputs": [],
      "source": []
    }
  ],
  "metadata": {
    "colab": {
      "provenance": []
    },
    "kernelspec": {
      "display_name": "Python 3",
      "name": "python3"
    },
    "language_info": {
      "codemirror_mode": {
        "name": "ipython",
        "version": 3
      },
      "file_extension": ".py",
      "mimetype": "text/x-python",
      "name": "python",
      "nbconvert_exporter": "python",
      "pygments_lexer": "ipython3",
      "version": "3.11.2"
    },
    "widgets": {
      "application/vnd.jupyter.widget-state+json": {
        "03f44f9e801e40d98fbf072beb827ec7": {
          "model_module": "jupyter-leaflet",
          "model_module_version": "^0.18",
          "model_name": "LeafletMapStyleModel",
          "state": {
            "_model_module": "jupyter-leaflet",
            "_model_module_version": "^0.18",
            "_model_name": "LeafletMapStyleModel",
            "_view_count": null,
            "_view_module": "@jupyter-widgets/base",
            "_view_module_version": "1.2.0",
            "_view_name": "StyleView",
            "cursor": "move"
          }
        },
        "04a22560580444779ce03cf3c583ac55": {
          "model_module": "@jupyter-widgets/controls",
          "model_module_version": "1.5.0",
          "model_name": "ToggleButtonModel",
          "state": {
            "_dom_classes": [],
            "_model_module": "@jupyter-widgets/controls",
            "_model_module_version": "1.5.0",
            "_model_name": "ToggleButtonModel",
            "_view_count": null,
            "_view_module": "@jupyter-widgets/controls",
            "_view_module_version": "1.5.0",
            "_view_name": "ToggleButtonView",
            "button_style": "",
            "description": "",
            "description_tooltip": null,
            "disabled": false,
            "icon": "wrench",
            "layout": "IPY_MODEL_7ced66c651d2470a8ac793d052c19b51",
            "style": "IPY_MODEL_d6515459d20d44e8aede885952508e50",
            "tooltip": "Toolbar",
            "value": false
          }
        },
        "1fbf3846475d4cfdbee09e84eeaa2873": {
          "model_module": "jupyter-leaflet",
          "model_module_version": "^0.18",
          "model_name": "LeafletZoomControlModel",
          "state": {
            "_model_module": "jupyter-leaflet",
            "_model_module_version": "^0.18",
            "_model_name": "LeafletZoomControlModel",
            "_view_count": null,
            "_view_module": "jupyter-leaflet",
            "_view_module_version": "^0.18",
            "_view_name": "LeafletZoomControlView",
            "options": [
              "position",
              "zoom_in_text",
              "zoom_in_title",
              "zoom_out_text",
              "zoom_out_title"
            ],
            "position": "topleft",
            "zoom_in_text": "+",
            "zoom_in_title": "Zoom in",
            "zoom_out_text": "-",
            "zoom_out_title": "Zoom out"
          }
        },
        "21bf5d2af9084220ade3dc0edeb9dcd2": {
          "model_module": "jupyter-leaflet",
          "model_module_version": "^0.18",
          "model_name": "LeafletMapStyleModel",
          "state": {
            "_model_module": "jupyter-leaflet",
            "_model_module_version": "^0.18",
            "_model_name": "LeafletMapStyleModel",
            "_view_count": null,
            "_view_module": "@jupyter-widgets/base",
            "_view_module_version": "1.2.0",
            "_view_name": "StyleView",
            "cursor": "grab"
          }
        },
        "40249a8a5e3e4b6c9c385ca47e6469c5": {
          "model_module": "jupyter-leaflet",
          "model_module_version": "^0.18",
          "model_name": "LeafletMapModel",
          "state": {
            "_dom_classes": [],
            "_model_module": "jupyter-leaflet",
            "_model_module_version": "^0.18",
            "_model_name": "LeafletMapModel",
            "_view_count": null,
            "_view_module": "jupyter-leaflet",
            "_view_module_version": "^0.18",
            "_view_name": "LeafletMapView",
            "bottom": 258913194,
            "bounce_at_zoom_limits": true,
            "box_zoom": true,
            "center": [
              6.3721983949801855,
              -10.79458136111498
            ],
            "close_popup_on_click": true,
            "controls": [
              "IPY_MODEL_1fbf3846475d4cfdbee09e84eeaa2873",
              "IPY_MODEL_9a5f2c29a4164d3c9f557c33fcf74563",
              "IPY_MODEL_ec15e61d422c465bbecc195446598e83",
              "IPY_MODEL_f385ba777bab45a29527b39ceebaf09e",
              "IPY_MODEL_f4efd6beb26b47d9825d5edde9d68f56",
              "IPY_MODEL_a904c866edfc4988a8a31a2266e13717"
            ],
            "crs": {
              "custom": false,
              "name": "EPSG3857"
            },
            "default_style": "IPY_MODEL_b3fa0e7958184ae0be0555d2511c3b72",
            "double_click_zoom": true,
            "dragging": true,
            "dragging_style": "IPY_MODEL_03f44f9e801e40d98fbf072beb827ec7",
            "east": -10.794271230697634,
            "fullscreen": false,
            "inertia": true,
            "inertia_deceleration": 3000,
            "inertia_max_speed": 1500,
            "interpolation": "bilinear",
            "keyboard": true,
            "keyboard_pan_offset": 80,
            "keyboard_zoom_offset": 1,
            "layers": [
              "IPY_MODEL_8aba262ccb0f4cf2a2d0a2c2f7e18901",
              "IPY_MODEL_7c396dca1d99474282ec20511e5e2119"
            ],
            "layout": "IPY_MODEL_cf56c1d62803468ebf38005b28db8d0c",
            "left": 252336947,
            "max_zoom": 24,
            "min_zoom": null,
            "modisdate": "2024-03-13",
            "north": 6.372398317793698,
            "options": [
              "bounce_at_zoom_limits",
              "box_zoom",
              "center",
              "close_popup_on_click",
              "double_click_zoom",
              "dragging",
              "fullscreen",
              "inertia",
              "inertia_deceleration",
              "inertia_max_speed",
              "interpolation",
              "keyboard",
              "keyboard_pan_offset",
              "keyboard_zoom_offset",
              "max_zoom",
              "min_zoom",
              "prefer_canvas",
              "scroll_wheel_zoom",
              "tap",
              "tap_tolerance",
              "touch_zoom",
              "world_copy_jump",
              "zoom",
              "zoom_animation_threshold",
              "zoom_delta",
              "zoom_snap"
            ],
            "panes": {},
            "prefer_canvas": false,
            "right": 252337872,
            "scroll_wheel_zoom": true,
            "south": 6.37199847208875,
            "style": "IPY_MODEL_b3fa0e7958184ae0be0555d2511c3b72",
            "tap": true,
            "tap_tolerance": 15,
            "top": 258912594,
            "touch_zoom": true,
            "west": -10.794891491532328,
            "window_url": "https://eqreq35khlv-496ff2e9c6d22116-0-colab.googleusercontent.com/outputframe.html?vrz=colab_20240312-060225_RC00_614982821",
            "world_copy_jump": false,
            "zoom": 21,
            "zoom_animation_threshold": 4,
            "zoom_delta": 1,
            "zoom_snap": 1
          }
        },
        "7c396dca1d99474282ec20511e5e2119": {
          "model_module": "jupyter-leaflet",
          "model_module_version": "^0.18",
          "model_name": "LeafletTileLayerModel",
          "state": {
            "_model_module": "jupyter-leaflet",
            "_model_module_version": "^0.18",
            "_model_name": "LeafletTileLayerModel",
            "_view_count": null,
            "_view_module": "jupyter-leaflet",
            "_view_module_version": "^0.18",
            "_view_name": "LeafletTileLayerView",
            "attribution": "OAM",
            "base": false,
            "bottom": true,
            "bounds": null,
            "detect_retina": false,
            "loading": false,
            "max_native_zoom": 30,
            "max_zoom": 30,
            "min_native_zoom": null,
            "min_zoom": 0,
            "name": "OAM Image",
            "no_wrap": false,
            "opacity": 1,
            "options": [
              "attribution",
              "bounds",
              "detect_retina",
              "max_native_zoom",
              "max_zoom",
              "min_native_zoom",
              "min_zoom",
              "no_wrap",
              "tile_size",
              "tms",
              "zoom_offset"
            ],
            "pane": "",
            "popup": null,
            "popup_max_height": null,
            "popup_max_width": 300,
            "popup_min_width": 50,
            "show_loading": false,
            "subitems": [],
            "tile_size": 256,
            "tms": false,
            "url": "https://tiles.openaerialmap.org/65e4bb85e6f8d4000128235a/0/65e4bb85e6f8d4000128235b/{z}/{x}/{y}",
            "visible": true,
            "zoom_offset": 0
          }
        },
        "7ced66c651d2470a8ac793d052c19b51": {
          "model_module": "@jupyter-widgets/base",
          "model_module_version": "1.2.0",
          "model_name": "LayoutModel",
          "state": {
            "_model_module": "@jupyter-widgets/base",
            "_model_module_version": "1.2.0",
            "_model_name": "LayoutModel",
            "_view_count": null,
            "_view_module": "@jupyter-widgets/base",
            "_view_module_version": "1.2.0",
            "_view_name": "LayoutView",
            "align_content": null,
            "align_items": null,
            "align_self": null,
            "border": null,
            "bottom": null,
            "display": null,
            "flex": null,
            "flex_flow": null,
            "grid_area": null,
            "grid_auto_columns": null,
            "grid_auto_flow": null,
            "grid_auto_rows": null,
            "grid_column": null,
            "grid_gap": null,
            "grid_row": null,
            "grid_template_areas": null,
            "grid_template_columns": null,
            "grid_template_rows": null,
            "height": "28px",
            "justify_content": null,
            "justify_items": null,
            "left": null,
            "margin": null,
            "max_height": null,
            "max_width": null,
            "min_height": null,
            "min_width": null,
            "object_fit": null,
            "object_position": null,
            "order": null,
            "overflow": null,
            "overflow_x": null,
            "overflow_y": null,
            "padding": "0px 0px 0px 4px",
            "right": null,
            "top": null,
            "visibility": null,
            "width": "28px"
          }
        },
        "8aba262ccb0f4cf2a2d0a2c2f7e18901": {
          "model_module": "jupyter-leaflet",
          "model_module_version": "^0.18",
          "model_name": "LeafletTileLayerModel",
          "state": {
            "_model_module": "jupyter-leaflet",
            "_model_module_version": "^0.18",
            "_model_name": "LeafletTileLayerModel",
            "_view_count": null,
            "_view_module": "jupyter-leaflet",
            "_view_module_version": "^0.18",
            "_view_name": "LeafletTileLayerView",
            "attribution": "&copy; <a href=\"https://www.openstreetmap.org/copyright\">OpenStreetMap</a> contributors",
            "base": true,
            "bottom": true,
            "bounds": null,
            "detect_retina": false,
            "loading": true,
            "max_native_zoom": null,
            "max_zoom": 19,
            "min_native_zoom": null,
            "min_zoom": 1,
            "name": "OpenStreetMap",
            "no_wrap": false,
            "opacity": 1,
            "options": [
              "attribution",
              "bounds",
              "detect_retina",
              "max_native_zoom",
              "max_zoom",
              "min_native_zoom",
              "min_zoom",
              "no_wrap",
              "tile_size",
              "tms",
              "zoom_offset"
            ],
            "pane": "",
            "popup": null,
            "popup_max_height": null,
            "popup_max_width": 300,
            "popup_min_width": 50,
            "show_loading": false,
            "subitems": [],
            "tile_size": 256,
            "tms": false,
            "url": "https://tile.openstreetmap.org/{z}/{x}/{y}.png",
            "visible": true,
            "zoom_offset": 0
          }
        },
        "9a5f2c29a4164d3c9f557c33fcf74563": {
          "model_module": "jupyter-leaflet",
          "model_module_version": "^0.18",
          "model_name": "LeafletAttributionControlModel",
          "state": {
            "_model_module": "jupyter-leaflet",
            "_model_module_version": "^0.18",
            "_model_name": "LeafletAttributionControlModel",
            "_view_count": null,
            "_view_module": "jupyter-leaflet",
            "_view_module_version": "^0.18",
            "_view_name": "LeafletAttributionControlView",
            "options": [
              "position",
              "prefix"
            ],
            "position": "bottomright",
            "prefix": "ipyleaflet"
          }
        },
        "a904c866edfc4988a8a31a2266e13717": {
          "model_module": "jupyter-leaflet",
          "model_module_version": "^0.18",
          "model_name": "LeafletWidgetControlModel",
          "state": {
            "_model_module": "jupyter-leaflet",
            "_model_module_version": "^0.18",
            "_model_name": "LeafletWidgetControlModel",
            "_view_count": null,
            "_view_module": "jupyter-leaflet",
            "_view_module_version": "^0.18",
            "_view_name": "LeafletWidgetControlView",
            "max_height": null,
            "max_width": null,
            "min_height": null,
            "min_width": null,
            "options": [
              "position",
              "transparent_bg"
            ],
            "position": "topright",
            "transparent_bg": false,
            "widget": "IPY_MODEL_b01300b068a345b1823d4e6e38920d47"
          }
        },
        "b01300b068a345b1823d4e6e38920d47": {
          "model_module": "@jupyter-widgets/controls",
          "model_module_version": "1.5.0",
          "model_name": "VBoxModel",
          "state": {
            "_dom_classes": [],
            "_model_module": "@jupyter-widgets/controls",
            "_model_module_version": "1.5.0",
            "_model_name": "VBoxModel",
            "_view_count": null,
            "_view_module": "@jupyter-widgets/controls",
            "_view_module_version": "1.5.0",
            "_view_name": "VBoxView",
            "box_style": "",
            "children": [
              "IPY_MODEL_04a22560580444779ce03cf3c583ac55"
            ],
            "layout": "IPY_MODEL_bae39a79f4334b898165cbb98ba8c48e"
          }
        },
        "b3fa0e7958184ae0be0555d2511c3b72": {
          "model_module": "jupyter-leaflet",
          "model_module_version": "^0.18",
          "model_name": "LeafletMapStyleModel",
          "state": {
            "_model_module": "jupyter-leaflet",
            "_model_module_version": "^0.18",
            "_model_name": "LeafletMapStyleModel",
            "_view_count": null,
            "_view_module": "@jupyter-widgets/base",
            "_view_module_version": "1.2.0",
            "_view_name": "StyleView",
            "cursor": "grab"
          }
        },
        "bae39a79f4334b898165cbb98ba8c48e": {
          "model_module": "@jupyter-widgets/base",
          "model_module_version": "1.2.0",
          "model_name": "LayoutModel",
          "state": {
            "_model_module": "@jupyter-widgets/base",
            "_model_module_version": "1.2.0",
            "_model_name": "LayoutModel",
            "_view_count": null,
            "_view_module": "@jupyter-widgets/base",
            "_view_module_version": "1.2.0",
            "_view_name": "LayoutView",
            "align_content": null,
            "align_items": null,
            "align_self": null,
            "border": null,
            "bottom": null,
            "display": null,
            "flex": null,
            "flex_flow": null,
            "grid_area": null,
            "grid_auto_columns": null,
            "grid_auto_flow": null,
            "grid_auto_rows": null,
            "grid_column": null,
            "grid_gap": null,
            "grid_row": null,
            "grid_template_areas": null,
            "grid_template_columns": null,
            "grid_template_rows": null,
            "height": null,
            "justify_content": null,
            "justify_items": null,
            "left": null,
            "margin": null,
            "max_height": null,
            "max_width": null,
            "min_height": null,
            "min_width": null,
            "object_fit": null,
            "object_position": null,
            "order": null,
            "overflow": null,
            "overflow_x": null,
            "overflow_y": null,
            "padding": null,
            "right": null,
            "top": null,
            "visibility": null,
            "width": null
          }
        },
        "cf56c1d62803468ebf38005b28db8d0c": {
          "model_module": "@jupyter-widgets/base",
          "model_module_version": "1.2.0",
          "model_name": "LayoutModel",
          "state": {
            "_model_module": "@jupyter-widgets/base",
            "_model_module_version": "1.2.0",
            "_model_name": "LayoutModel",
            "_view_count": null,
            "_view_module": "@jupyter-widgets/base",
            "_view_module_version": "1.2.0",
            "_view_name": "LayoutView",
            "align_content": null,
            "align_items": null,
            "align_self": null,
            "border": null,
            "bottom": null,
            "display": null,
            "flex": null,
            "flex_flow": null,
            "grid_area": null,
            "grid_auto_columns": null,
            "grid_auto_flow": null,
            "grid_auto_rows": null,
            "grid_column": null,
            "grid_gap": null,
            "grid_row": null,
            "grid_template_areas": null,
            "grid_template_columns": null,
            "grid_template_rows": null,
            "height": "600px",
            "justify_content": null,
            "justify_items": null,
            "left": null,
            "margin": null,
            "max_height": null,
            "max_width": null,
            "min_height": null,
            "min_width": null,
            "object_fit": null,
            "object_position": null,
            "order": null,
            "overflow": null,
            "overflow_x": null,
            "overflow_y": null,
            "padding": null,
            "right": null,
            "top": null,
            "visibility": null,
            "width": null
          }
        },
        "d6515459d20d44e8aede885952508e50": {
          "model_module": "@jupyter-widgets/controls",
          "model_module_version": "1.5.0",
          "model_name": "DescriptionStyleModel",
          "state": {
            "_model_module": "@jupyter-widgets/controls",
            "_model_module_version": "1.5.0",
            "_model_name": "DescriptionStyleModel",
            "_view_count": null,
            "_view_module": "@jupyter-widgets/base",
            "_view_module_version": "1.2.0",
            "_view_name": "StyleView",
            "description_width": ""
          }
        },
        "ec15e61d422c465bbecc195446598e83": {
          "model_module": "jupyter-leaflet",
          "model_module_version": "^0.18",
          "model_name": "LeafletFullScreenControlModel",
          "state": {
            "_model_module": "jupyter-leaflet",
            "_model_module_version": "^0.18",
            "_model_name": "LeafletFullScreenControlModel",
            "_view_count": null,
            "_view_module": "jupyter-leaflet",
            "_view_module_version": "^0.18",
            "_view_name": "LeafletFullScreenControlView",
            "options": [
              "position"
            ],
            "position": "topleft"
          }
        },
        "f385ba777bab45a29527b39ceebaf09e": {
          "model_module": "jupyter-leaflet",
          "model_module_version": "^0.18",
          "model_name": "LeafletDrawControlModel",
          "state": {
            "_model_module": "jupyter-leaflet",
            "_model_module_version": "^0.18",
            "_model_name": "LeafletDrawControlModel",
            "_view_count": null,
            "_view_module": "jupyter-leaflet",
            "_view_module_version": "^0.18",
            "_view_name": "LeafletDrawControlView",
            "circle": {
              "repeatMode": false,
              "shapeOptions": {
                "color": "#3388ff"
              }
            },
            "circlemarker": {},
            "data": [
              {
                "geometry": {
                  "coordinates": [
                    [
                      [
                        -10.793273,
                        6.373668
                      ],
                      [
                        -10.793273,
                        6.374937
                      ],
                      [
                        -10.792061,
                        6.374937
                      ],
                      [
                        -10.792061,
                        6.373668
                      ],
                      [
                        -10.793273,
                        6.373668
                      ]
                    ]
                  ],
                  "type": "Polygon"
                },
                "properties": {
                  "style": {
                    "clickable": true,
                    "color": "#3388ff",
                    "fill": true,
                    "fillColor": null,
                    "fillOpacity": 0.2,
                    "opacity": 0.5,
                    "stroke": true,
                    "weight": 4
                  }
                },
                "type": "Feature"
              }
            ],
            "edit": true,
            "marker": {
              "repeatMode": false,
              "shapeOptions": {
                "color": "#3388ff"
              }
            },
            "options": [
              "position"
            ],
            "polygon": {
              "repeatMode": false
            },
            "polyline": {
              "repeatMode": false
            },
            "position": "topleft",
            "rectangle": {
              "repeatMode": false,
              "shapeOptions": {
                "color": "#3388ff"
              }
            },
            "remove": true
          }
        },
        "f4efd6beb26b47d9825d5edde9d68f56": {
          "model_module": "jupyter-leaflet",
          "model_module_version": "^0.18",
          "model_name": "LeafletScaleControlModel",
          "state": {
            "_model_module": "jupyter-leaflet",
            "_model_module_version": "^0.18",
            "_model_name": "LeafletScaleControlModel",
            "_view_count": null,
            "_view_module": "jupyter-leaflet",
            "_view_module_version": "^0.18",
            "_view_name": "LeafletScaleControlView",
            "imperial": true,
            "max_width": 100,
            "metric": true,
            "options": [
              "imperial",
              "max_width",
              "metric",
              "position",
              "update_when_idle"
            ],
            "position": "bottomleft",
            "update_when_idle": false
          }
        }
      }
    }
  },
  "nbformat": 4,
  "nbformat_minor": 0
}
